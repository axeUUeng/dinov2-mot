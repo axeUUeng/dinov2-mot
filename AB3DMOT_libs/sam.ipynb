{
 "cells": [
  {
   "cell_type": "code",
   "execution_count": null,
   "metadata": {},
   "outputs": [
    {
     "ename": "",
     "evalue": "",
     "output_type": "error",
     "traceback": [
      "\u001b[1;31mRunning cells with 'ab3d_env' requires the ipykernel package.\n",
      "\u001b[1;31mRun the following command to install 'ipykernel' into the Python environment. \n",
      "\u001b[1;31mCommand: 'conda install -n ab3d_env ipykernel --update-deps --force-reinstall'"
     ]
    }
   ],
   "source": [
    "import numpy as np\n",
    "import torch\n",
    "import matplotlib.pyplot as plt\n",
    "import cv2\n",
    "from segment_anything import sam_model_registry, SamPredictor"
   ]
  },
  {
   "cell_type": "code",
   "execution_count": null,
   "metadata": {},
   "outputs": [
    {
     "ename": "",
     "evalue": "",
     "output_type": "error",
     "traceback": [
      "\u001b[1;31mFailed to start the Kernel. \n",
      "\u001b[1;31mThe Jupyter notebook server failed to launch in time\n",
      "\u001b[1;31m/home/englund/anaconda3/lib/python3.10/site-packages/traitlets/traitlets.py:2544: FutureWarning: Supporting extra quotes around strings is deprecated in traitlets 5.0. You can use '/home/englund' instead of '\"/home/englund\"' if you require traitlets >=5.\n",
      "\u001b[1;31m  warn(\n",
      "\u001b[1;31m\n",
      "\u001b[1;31m[I 16:08:03.673 NotebookApp] Writing notebook server cookie secret to /home/englund/.local/share/jupyter/runtime/notebook_cookie_secret\n",
      "\u001b[1;31m\n",
      "\u001b[1;31m[W 16:08:35.491 NotebookApp] Loading JupyterLab as a classic notebook (v6) extension.\n",
      "\u001b[1;31m\n",
      "\u001b[1;31m[W 2023-05-05 16:08:35.494 LabApp] 'notebook_dir' has moved from NotebookApp to ServerApp. This config will be passed to ServerApp. Be sure to update your config before our next release.\n",
      "\u001b[1;31m\n",
      "\u001b[1;31m[W 2023-05-05 16:08:35.494 LabApp] 'config_file' was found in both NotebookApp and ServerApp. This is likely a recent change. This config will only be set in NotebookApp. Please check if you should also config these traits in ServerApp for your purpose.\n",
      "\u001b[1;31m[W 2023-05-05 16:08:35.494 LabApp] 'iopub_data_rate_limit' has moved from NotebookApp to ServerApp. This config will be passed to ServerApp. Be sure to update your config before our next release.\n",
      "\u001b[1;31m[W 2023-05-05 16:08:35.494 LabApp] 'iopub_data_rate_limit' has moved from NotebookApp to ServerApp. This config will be passed to ServerApp. Be sure to update your config before our next release.\n",
      "\u001b[1;31m[W 2023-05-05 16:08:35.494 LabApp] 'iopub_data_rate_limit' has moved from NotebookApp to ServerApp. This config will be passed to ServerApp. Be sure to update your config before our next release.\n",
      "\u001b[1;31m[I 2023-05-05 16:08:35.498 LabApp] JupyterLab extension loaded from /home/englund/anaconda3/lib/python3.10/site-packages/jupyterlab\n",
      "\u001b[1;31m[I 2023-05-05 16:08:35.498 LabApp] JupyterLab application directory is /home/englund/anaconda3/share/jupyter/lab. \n",
      "\u001b[1;31mView Jupyter <a href='command:jupyter.viewOutput'>log</a> for further details."
     ]
    }
   ],
   "source": [
    "img_path = \"/home/englund/python_test/AB3DMOT/data/KITTI/tracking/testing/image_02/0000/000000.png\"\n",
    "txt_path = \"/home/englund/python_test/AB3DMOT/results/KITTI/pointrcnn_test_H1/trk_withid_0/0000/000000.txt\"\n",
    "\n",
    "img = cv2.imread(img_path)\n",
    "cv2.imshow(\"Image\", img)\n",
    "cv2.waitKey(0)\n",
    "cv2.destroyAllWindows()"
   ]
  },
  {
   "cell_type": "code",
   "execution_count": null,
   "metadata": {},
   "outputs": [],
   "source": [
    "with open(txt_path, 'r') as file:\n",
    "    # Read the contents of the file\n",
    "    file_contents = file.read()\n",
    "\n",
    "# Split the contents into lines\n",
    "lines = file_contents.split('\\n')\n"
   ]
  }
 ],
 "metadata": {
  "kernelspec": {
   "display_name": "ab3d_env",
   "language": "python",
   "name": "python3"
  },
  "language_info": {
   "name": "python",
   "version": "3.6.0"
  },
  "orig_nbformat": 4
 },
 "nbformat": 4,
 "nbformat_minor": 2
}
